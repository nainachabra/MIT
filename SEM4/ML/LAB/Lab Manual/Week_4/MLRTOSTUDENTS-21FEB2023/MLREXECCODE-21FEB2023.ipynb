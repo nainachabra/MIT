{
 "cells": [
  {
   "cell_type": "code",
   "execution_count": 43,
   "id": "673203fc",
   "metadata": {},
   "outputs": [],
   "source": [
    "import pandas as pd\n",
    "import matplotlib.pyplot as plt\n",
    "import numpy as np\n",
    "from sklearn.model_selection import train_test_split\n",
    "from sklearn.linear_model import LinearRegression\n",
    "from sklearn.metrics import r2_score"
   ]
  },
  {
   "cell_type": "code",
   "execution_count": 44,
   "id": "fedf630e",
   "metadata": {},
   "outputs": [],
   "source": [
    "df=pd.read_csv(\"C:/Users/USER/Desktop/MLRNOTES-21FEB2023/Iris.csv\")"
   ]
  },
  {
   "cell_type": "code",
   "execution_count": 45,
   "id": "d4906240",
   "metadata": {},
   "outputs": [
    {
     "data": {
      "text/html": [
       "<div>\n",
       "<style scoped>\n",
       "    .dataframe tbody tr th:only-of-type {\n",
       "        vertical-align: middle;\n",
       "    }\n",
       "\n",
       "    .dataframe tbody tr th {\n",
       "        vertical-align: top;\n",
       "    }\n",
       "\n",
       "    .dataframe thead th {\n",
       "        text-align: right;\n",
       "    }\n",
       "</style>\n",
       "<table border=\"1\" class=\"dataframe\">\n",
       "  <thead>\n",
       "    <tr style=\"text-align: right;\">\n",
       "      <th></th>\n",
       "      <th>Id</th>\n",
       "      <th>SepalLengthCm</th>\n",
       "      <th>SepalWidthCm</th>\n",
       "      <th>PetalLengthCm</th>\n",
       "      <th>PetalWidthCm</th>\n",
       "      <th>Species</th>\n",
       "    </tr>\n",
       "  </thead>\n",
       "  <tbody>\n",
       "    <tr>\n",
       "      <th>0</th>\n",
       "      <td>1</td>\n",
       "      <td>5.1</td>\n",
       "      <td>3.5</td>\n",
       "      <td>1.4</td>\n",
       "      <td>0.2</td>\n",
       "      <td>Iris-setosa</td>\n",
       "    </tr>\n",
       "    <tr>\n",
       "      <th>1</th>\n",
       "      <td>2</td>\n",
       "      <td>4.9</td>\n",
       "      <td>3.0</td>\n",
       "      <td>1.4</td>\n",
       "      <td>0.2</td>\n",
       "      <td>Iris-setosa</td>\n",
       "    </tr>\n",
       "    <tr>\n",
       "      <th>2</th>\n",
       "      <td>3</td>\n",
       "      <td>4.7</td>\n",
       "      <td>3.2</td>\n",
       "      <td>1.3</td>\n",
       "      <td>0.2</td>\n",
       "      <td>Iris-setosa</td>\n",
       "    </tr>\n",
       "    <tr>\n",
       "      <th>3</th>\n",
       "      <td>4</td>\n",
       "      <td>4.6</td>\n",
       "      <td>3.1</td>\n",
       "      <td>1.5</td>\n",
       "      <td>0.2</td>\n",
       "      <td>Iris-setosa</td>\n",
       "    </tr>\n",
       "    <tr>\n",
       "      <th>4</th>\n",
       "      <td>5</td>\n",
       "      <td>5.0</td>\n",
       "      <td>3.6</td>\n",
       "      <td>1.4</td>\n",
       "      <td>0.2</td>\n",
       "      <td>Iris-setosa</td>\n",
       "    </tr>\n",
       "    <tr>\n",
       "      <th>...</th>\n",
       "      <td>...</td>\n",
       "      <td>...</td>\n",
       "      <td>...</td>\n",
       "      <td>...</td>\n",
       "      <td>...</td>\n",
       "      <td>...</td>\n",
       "    </tr>\n",
       "    <tr>\n",
       "      <th>145</th>\n",
       "      <td>146</td>\n",
       "      <td>6.7</td>\n",
       "      <td>3.0</td>\n",
       "      <td>5.2</td>\n",
       "      <td>2.3</td>\n",
       "      <td>Iris-virginica</td>\n",
       "    </tr>\n",
       "    <tr>\n",
       "      <th>146</th>\n",
       "      <td>147</td>\n",
       "      <td>6.3</td>\n",
       "      <td>2.5</td>\n",
       "      <td>5.0</td>\n",
       "      <td>1.9</td>\n",
       "      <td>Iris-virginica</td>\n",
       "    </tr>\n",
       "    <tr>\n",
       "      <th>147</th>\n",
       "      <td>148</td>\n",
       "      <td>6.5</td>\n",
       "      <td>3.0</td>\n",
       "      <td>5.2</td>\n",
       "      <td>2.0</td>\n",
       "      <td>Iris-virginica</td>\n",
       "    </tr>\n",
       "    <tr>\n",
       "      <th>148</th>\n",
       "      <td>149</td>\n",
       "      <td>6.2</td>\n",
       "      <td>3.4</td>\n",
       "      <td>5.4</td>\n",
       "      <td>2.3</td>\n",
       "      <td>Iris-virginica</td>\n",
       "    </tr>\n",
       "    <tr>\n",
       "      <th>149</th>\n",
       "      <td>150</td>\n",
       "      <td>5.9</td>\n",
       "      <td>3.0</td>\n",
       "      <td>5.1</td>\n",
       "      <td>1.8</td>\n",
       "      <td>Iris-virginica</td>\n",
       "    </tr>\n",
       "  </tbody>\n",
       "</table>\n",
       "<p>150 rows × 6 columns</p>\n",
       "</div>"
      ],
      "text/plain": [
       "      Id  SepalLengthCm  SepalWidthCm  PetalLengthCm  PetalWidthCm  \\\n",
       "0      1            5.1           3.5            1.4           0.2   \n",
       "1      2            4.9           3.0            1.4           0.2   \n",
       "2      3            4.7           3.2            1.3           0.2   \n",
       "3      4            4.6           3.1            1.5           0.2   \n",
       "4      5            5.0           3.6            1.4           0.2   \n",
       "..   ...            ...           ...            ...           ...   \n",
       "145  146            6.7           3.0            5.2           2.3   \n",
       "146  147            6.3           2.5            5.0           1.9   \n",
       "147  148            6.5           3.0            5.2           2.0   \n",
       "148  149            6.2           3.4            5.4           2.3   \n",
       "149  150            5.9           3.0            5.1           1.8   \n",
       "\n",
       "            Species  \n",
       "0       Iris-setosa  \n",
       "1       Iris-setosa  \n",
       "2       Iris-setosa  \n",
       "3       Iris-setosa  \n",
       "4       Iris-setosa  \n",
       "..              ...  \n",
       "145  Iris-virginica  \n",
       "146  Iris-virginica  \n",
       "147  Iris-virginica  \n",
       "148  Iris-virginica  \n",
       "149  Iris-virginica  \n",
       "\n",
       "[150 rows x 6 columns]"
      ]
     },
     "execution_count": 45,
     "metadata": {},
     "output_type": "execute_result"
    }
   ],
   "source": [
    "df"
   ]
  },
  {
   "cell_type": "code",
   "execution_count": 46,
   "id": "fc667f17",
   "metadata": {},
   "outputs": [],
   "source": [
    "x=df[['SepalLengthCm','SepalWidthCm']]\n",
    "y=df['PetalLengthCm']"
   ]
  },
  {
   "cell_type": "code",
   "execution_count": 47,
   "id": "63daabd4",
   "metadata": {},
   "outputs": [
    {
     "data": {
      "text/html": [
       "<div>\n",
       "<style scoped>\n",
       "    .dataframe tbody tr th:only-of-type {\n",
       "        vertical-align: middle;\n",
       "    }\n",
       "\n",
       "    .dataframe tbody tr th {\n",
       "        vertical-align: top;\n",
       "    }\n",
       "\n",
       "    .dataframe thead th {\n",
       "        text-align: right;\n",
       "    }\n",
       "</style>\n",
       "<table border=\"1\" class=\"dataframe\">\n",
       "  <thead>\n",
       "    <tr style=\"text-align: right;\">\n",
       "      <th></th>\n",
       "      <th>SepalLengthCm</th>\n",
       "      <th>SepalWidthCm</th>\n",
       "    </tr>\n",
       "  </thead>\n",
       "  <tbody>\n",
       "    <tr>\n",
       "      <th>0</th>\n",
       "      <td>5.1</td>\n",
       "      <td>3.5</td>\n",
       "    </tr>\n",
       "    <tr>\n",
       "      <th>1</th>\n",
       "      <td>4.9</td>\n",
       "      <td>3.0</td>\n",
       "    </tr>\n",
       "    <tr>\n",
       "      <th>2</th>\n",
       "      <td>4.7</td>\n",
       "      <td>3.2</td>\n",
       "    </tr>\n",
       "    <tr>\n",
       "      <th>3</th>\n",
       "      <td>4.6</td>\n",
       "      <td>3.1</td>\n",
       "    </tr>\n",
       "    <tr>\n",
       "      <th>4</th>\n",
       "      <td>5.0</td>\n",
       "      <td>3.6</td>\n",
       "    </tr>\n",
       "    <tr>\n",
       "      <th>...</th>\n",
       "      <td>...</td>\n",
       "      <td>...</td>\n",
       "    </tr>\n",
       "    <tr>\n",
       "      <th>145</th>\n",
       "      <td>6.7</td>\n",
       "      <td>3.0</td>\n",
       "    </tr>\n",
       "    <tr>\n",
       "      <th>146</th>\n",
       "      <td>6.3</td>\n",
       "      <td>2.5</td>\n",
       "    </tr>\n",
       "    <tr>\n",
       "      <th>147</th>\n",
       "      <td>6.5</td>\n",
       "      <td>3.0</td>\n",
       "    </tr>\n",
       "    <tr>\n",
       "      <th>148</th>\n",
       "      <td>6.2</td>\n",
       "      <td>3.4</td>\n",
       "    </tr>\n",
       "    <tr>\n",
       "      <th>149</th>\n",
       "      <td>5.9</td>\n",
       "      <td>3.0</td>\n",
       "    </tr>\n",
       "  </tbody>\n",
       "</table>\n",
       "<p>150 rows × 2 columns</p>\n",
       "</div>"
      ],
      "text/plain": [
       "     SepalLengthCm  SepalWidthCm\n",
       "0              5.1           3.5\n",
       "1              4.9           3.0\n",
       "2              4.7           3.2\n",
       "3              4.6           3.1\n",
       "4              5.0           3.6\n",
       "..             ...           ...\n",
       "145            6.7           3.0\n",
       "146            6.3           2.5\n",
       "147            6.5           3.0\n",
       "148            6.2           3.4\n",
       "149            5.9           3.0\n",
       "\n",
       "[150 rows x 2 columns]"
      ]
     },
     "execution_count": 47,
     "metadata": {},
     "output_type": "execute_result"
    }
   ],
   "source": [
    "x"
   ]
  },
  {
   "cell_type": "code",
   "execution_count": 48,
   "id": "6ee5cf89",
   "metadata": {},
   "outputs": [
    {
     "data": {
      "text/html": [
       "<div>\n",
       "<style scoped>\n",
       "    .dataframe tbody tr th:only-of-type {\n",
       "        vertical-align: middle;\n",
       "    }\n",
       "\n",
       "    .dataframe tbody tr th {\n",
       "        vertical-align: top;\n",
       "    }\n",
       "\n",
       "    .dataframe thead th {\n",
       "        text-align: right;\n",
       "    }\n",
       "</style>\n",
       "<table border=\"1\" class=\"dataframe\">\n",
       "  <thead>\n",
       "    <tr style=\"text-align: right;\">\n",
       "      <th></th>\n",
       "      <th>Id</th>\n",
       "      <th>SepalLengthCm</th>\n",
       "      <th>SepalWidthCm</th>\n",
       "      <th>PetalLengthCm</th>\n",
       "      <th>PetalWidthCm</th>\n",
       "      <th>Species</th>\n",
       "    </tr>\n",
       "  </thead>\n",
       "  <tbody>\n",
       "    <tr>\n",
       "      <th>0</th>\n",
       "      <td>1</td>\n",
       "      <td>5.1</td>\n",
       "      <td>3.5</td>\n",
       "      <td>1.4</td>\n",
       "      <td>0.2</td>\n",
       "      <td>Iris-setosa</td>\n",
       "    </tr>\n",
       "    <tr>\n",
       "      <th>1</th>\n",
       "      <td>2</td>\n",
       "      <td>4.9</td>\n",
       "      <td>3.0</td>\n",
       "      <td>1.4</td>\n",
       "      <td>0.2</td>\n",
       "      <td>Iris-setosa</td>\n",
       "    </tr>\n",
       "    <tr>\n",
       "      <th>2</th>\n",
       "      <td>3</td>\n",
       "      <td>4.7</td>\n",
       "      <td>3.2</td>\n",
       "      <td>1.3</td>\n",
       "      <td>0.2</td>\n",
       "      <td>Iris-setosa</td>\n",
       "    </tr>\n",
       "    <tr>\n",
       "      <th>3</th>\n",
       "      <td>4</td>\n",
       "      <td>4.6</td>\n",
       "      <td>3.1</td>\n",
       "      <td>1.5</td>\n",
       "      <td>0.2</td>\n",
       "      <td>Iris-setosa</td>\n",
       "    </tr>\n",
       "    <tr>\n",
       "      <th>4</th>\n",
       "      <td>5</td>\n",
       "      <td>5.0</td>\n",
       "      <td>3.6</td>\n",
       "      <td>1.4</td>\n",
       "      <td>0.2</td>\n",
       "      <td>Iris-setosa</td>\n",
       "    </tr>\n",
       "    <tr>\n",
       "      <th>...</th>\n",
       "      <td>...</td>\n",
       "      <td>...</td>\n",
       "      <td>...</td>\n",
       "      <td>...</td>\n",
       "      <td>...</td>\n",
       "      <td>...</td>\n",
       "    </tr>\n",
       "    <tr>\n",
       "      <th>145</th>\n",
       "      <td>146</td>\n",
       "      <td>6.7</td>\n",
       "      <td>3.0</td>\n",
       "      <td>5.2</td>\n",
       "      <td>2.3</td>\n",
       "      <td>Iris-virginica</td>\n",
       "    </tr>\n",
       "    <tr>\n",
       "      <th>146</th>\n",
       "      <td>147</td>\n",
       "      <td>6.3</td>\n",
       "      <td>2.5</td>\n",
       "      <td>5.0</td>\n",
       "      <td>1.9</td>\n",
       "      <td>Iris-virginica</td>\n",
       "    </tr>\n",
       "    <tr>\n",
       "      <th>147</th>\n",
       "      <td>148</td>\n",
       "      <td>6.5</td>\n",
       "      <td>3.0</td>\n",
       "      <td>5.2</td>\n",
       "      <td>2.0</td>\n",
       "      <td>Iris-virginica</td>\n",
       "    </tr>\n",
       "    <tr>\n",
       "      <th>148</th>\n",
       "      <td>149</td>\n",
       "      <td>6.2</td>\n",
       "      <td>3.4</td>\n",
       "      <td>5.4</td>\n",
       "      <td>2.3</td>\n",
       "      <td>Iris-virginica</td>\n",
       "    </tr>\n",
       "    <tr>\n",
       "      <th>149</th>\n",
       "      <td>150</td>\n",
       "      <td>5.9</td>\n",
       "      <td>3.0</td>\n",
       "      <td>5.1</td>\n",
       "      <td>1.8</td>\n",
       "      <td>Iris-virginica</td>\n",
       "    </tr>\n",
       "  </tbody>\n",
       "</table>\n",
       "<p>150 rows × 6 columns</p>\n",
       "</div>"
      ],
      "text/plain": [
       "      Id  SepalLengthCm  SepalWidthCm  PetalLengthCm  PetalWidthCm  \\\n",
       "0      1            5.1           3.5            1.4           0.2   \n",
       "1      2            4.9           3.0            1.4           0.2   \n",
       "2      3            4.7           3.2            1.3           0.2   \n",
       "3      4            4.6           3.1            1.5           0.2   \n",
       "4      5            5.0           3.6            1.4           0.2   \n",
       "..   ...            ...           ...            ...           ...   \n",
       "145  146            6.7           3.0            5.2           2.3   \n",
       "146  147            6.3           2.5            5.0           1.9   \n",
       "147  148            6.5           3.0            5.2           2.0   \n",
       "148  149            6.2           3.4            5.4           2.3   \n",
       "149  150            5.9           3.0            5.1           1.8   \n",
       "\n",
       "            Species  \n",
       "0       Iris-setosa  \n",
       "1       Iris-setosa  \n",
       "2       Iris-setosa  \n",
       "3       Iris-setosa  \n",
       "4       Iris-setosa  \n",
       "..              ...  \n",
       "145  Iris-virginica  \n",
       "146  Iris-virginica  \n",
       "147  Iris-virginica  \n",
       "148  Iris-virginica  \n",
       "149  Iris-virginica  \n",
       "\n",
       "[150 rows x 6 columns]"
      ]
     },
     "execution_count": 48,
     "metadata": {},
     "output_type": "execute_result"
    }
   ],
   "source": [
    "df"
   ]
  },
  {
   "cell_type": "code",
   "execution_count": 49,
   "id": "0a524699",
   "metadata": {},
   "outputs": [
    {
     "name": "stdout",
     "output_type": "stream",
     "text": [
      "[3.96835712 5.08156327 1.67037549 6.53821715 1.77695316 4.23868289\n",
      " 1.65131868 5.20875039 5.76535346 4.50745602 4.75872498 4.544017\n",
      " 4.50745602 5.22625456 4.38182154 1.97415697 4.20212191 3.68052717\n",
      " 1.92009181 1.8675793  3.60895785 3.35768889 1.41755389 1.32692775\n",
      " 4.68715565 0.80688566 1.45411487 4.56152117 3.15893244 1.77695316\n",
      " 4.66965148 2.99828962 2.01071795 4.25618706 5.04655492 3.01579379\n",
      " 2.53231268 4.45339087 3.89678779 4.21962608 5.5140845  1.48912322\n",
      " 5.56814966 1.65131868 2.11884826]\n"
     ]
    }
   ],
   "source": [
    "x_train, x_test, y_train, y_test = train_test_split(x, y, test_size = 0.3, random_state = 0)\n",
    "mlr = LinearRegression()\n",
    "mlr.fit(x_train, y_train)\n",
    "y_predict = mlr.predict(x_test)\n",
    "print(y_predict)"
   ]
  },
  {
   "cell_type": "code",
   "execution_count": 50,
   "id": "752f38e4",
   "metadata": {
    "scrolled": true
   },
   "outputs": [
    {
     "data": {
      "text/plain": [
       "array([0.75282051])"
      ]
     },
     "execution_count": 50,
     "metadata": {},
     "output_type": "execute_result"
    }
   ],
   "source": [
    "mlr.predict([[4.5,3.5]])"
   ]
  },
  {
   "cell_type": "code",
   "execution_count": 51,
   "id": "d739b990",
   "metadata": {},
   "outputs": [
    {
     "data": {
      "text/plain": [
       "0.8662121480104479"
      ]
     },
     "execution_count": 51,
     "metadata": {},
     "output_type": "execute_result"
    }
   ],
   "source": [
    "#Coefficient of determination\n",
    "r_sq=mlr.score(x,y)\n",
    "r_sq"
   ]
  },
  {
   "cell_type": "code",
   "execution_count": 52,
   "id": "6f6e0d6d",
   "metadata": {},
   "outputs": [
    {
     "data": {
      "text/plain": [
       "-2.93645624355497"
      ]
     },
     "execution_count": 52,
     "metadata": {},
     "output_type": "execute_result"
    }
   ],
   "source": [
    "#intercept\n",
    "inter=mlr.intercept_\n",
    "inter"
   ]
  },
  {
   "cell_type": "code",
   "execution_count": 53,
   "id": "66d72916",
   "metadata": {},
   "outputs": [
    {
     "data": {
      "text/plain": [
       "array([ 1.79699634, -1.2563448 ])"
      ]
     },
     "execution_count": 53,
     "metadata": {},
     "output_type": "execute_result"
    }
   ],
   "source": [
    "#coefficient/slope\n",
    "coef=mlr.coef_\n",
    "coef"
   ]
  },
  {
   "cell_type": "code",
   "execution_count": 54,
   "id": "d6b2e302",
   "metadata": {},
   "outputs": [
    {
     "data": {
      "text/plain": [
       "0.7986035677762594"
      ]
     },
     "execution_count": 54,
     "metadata": {},
     "output_type": "execute_result"
    }
   ],
   "source": [
    "r2_score(y_predict,y_test)"
   ]
  },
  {
   "cell_type": "code",
   "execution_count": 55,
   "id": "ea4d2361",
   "metadata": {},
   "outputs": [
    {
     "data": {
      "text/plain": [
       "0.8366289848291384"
      ]
     },
     "execution_count": 55,
     "metadata": {},
     "output_type": "execute_result"
    }
   ],
   "source": [
    "r2_score(y_test,y_predict)"
   ]
  },
  {
   "cell_type": "code",
   "execution_count": 56,
   "id": "8a8c5b1d",
   "metadata": {},
   "outputs": [],
   "source": [
    "newslope=coef\n",
    "intercept=inter"
   ]
  },
  {
   "cell_type": "code",
   "execution_count": 57,
   "id": "fbb0a0f4",
   "metadata": {},
   "outputs": [
    {
     "data": {
      "text/plain": [
       "114    3.968357\n",
       "62     5.081563\n",
       "33     1.670375\n",
       "107    6.538217\n",
       "7      1.776953\n",
       "100    4.238683\n",
       "40     1.651319\n",
       "86     5.208750\n",
       "76     5.765353\n",
       "71     4.507456\n",
       "134    4.758725\n",
       "51     4.544017\n",
       "73     4.507456\n",
       "54     5.226255\n",
       "63     4.381822\n",
       "37     1.974157\n",
       "78     4.202122\n",
       "90     3.680527\n",
       "45     1.920092\n",
       "16     1.867579\n",
       "121    3.608958\n",
       "66     3.357689\n",
       "24     1.417554\n",
       "8      1.326928\n",
       "126    4.687156\n",
       "22     0.806886\n",
       "44     1.454115\n",
       "97     4.561521\n",
       "93     3.158932\n",
       "26     1.776953\n",
       "137    4.669651\n",
       "84     2.998290\n",
       "27     2.010718\n",
       "127    4.256187\n",
       "132    5.046555\n",
       "59     3.015794\n",
       "18     2.532313\n",
       "83     4.453391\n",
       "61     3.896788\n",
       "92     4.219626\n",
       "112    5.514085\n",
       "2      1.489123\n",
       "141    5.568150\n",
       "43     1.651319\n",
       "10     2.118848\n",
       "dtype: float64"
      ]
     },
     "execution_count": 57,
     "metadata": {},
     "output_type": "execute_result"
    }
   ],
   "source": [
    "newp=intercept+np.sum(newslope*x_test,axis=1)\n",
    "newp"
   ]
  },
  {
   "cell_type": "code",
   "execution_count": 58,
   "id": "7a6f2185",
   "metadata": {},
   "outputs": [
    {
     "name": "stdout",
     "output_type": "stream",
     "text": [
      "[3.94356831 5.04685014 1.6770024  6.59106498 1.73235635 4.25520025\n",
      " 1.61002772 5.2384776  5.79011851 4.49753337 4.74219063 4.5621839\n",
      " 4.49753337 5.23615345 4.37520474 1.91468723 4.19054972 3.63426051\n",
      " 1.85236084 1.85933328 3.57425827 3.329601   1.36304631 1.23606939\n",
      " 4.68218839 0.749079   1.42769684 4.55985976 3.0779713  1.73235635\n",
      " 4.68451254 2.96029096 1.97933776 4.2528761  5.05149843 2.95796681\n",
      " 2.53562697 4.43520698 3.88356606 4.18822557 5.54546125 1.42304855\n",
      " 5.60778764 1.61002772 2.10399054 3.44495719 4.99149619 4.99382033\n",
      " 5.04685014 5.97244939 3.94124416 7.20735644 4.25520025 3.87891777\n",
      " 4.98917204 4.86684341 2.64865902 5.2338293  5.67011403 4.99149619]\n"
     ]
    }
   ],
   "source": [
    "#test_size = 0.4\n",
    "x_train, x_test, y_train, y_test = train_test_split(x, y, test_size = 0.4, random_state = 0)\n",
    "mlr = LinearRegression()\n",
    "mlr.fit(x_train, y_train)\n",
    "y_predict = mlr.predict(x_test)\n",
    "print(y_predict)"
   ]
  },
  {
   "cell_type": "code",
   "execution_count": 59,
   "id": "d99db2da",
   "metadata": {},
   "outputs": [
    {
     "data": {
      "text/plain": [
       "0.8177012656777609"
      ]
     },
     "execution_count": 59,
     "metadata": {},
     "output_type": "execute_result"
    }
   ],
   "source": [
    "r2_score(y_test,y_predict)"
   ]
  },
  {
   "cell_type": "code",
   "execution_count": 60,
   "id": "5f3efb01",
   "metadata": {},
   "outputs": [
    {
     "name": "stdout",
     "output_type": "stream",
     "text": [
      "[3.88351117 4.91680417 1.7820906  6.55958268 1.73567109 4.26081933\n",
      " 1.62537487 5.22444316 5.74108965 4.44078472 4.66137715 4.55687339\n",
      " 4.44078472 5.18381611 4.3304885  1.88080189 4.14473065 3.54683006\n",
      " 1.80534026 1.9272214  3.51199548 3.29140305 1.36415539 1.17260509\n",
      " 4.62654257 0.77204727 1.48024407 4.51624635 2.94892948 1.73567109\n",
      " 4.66716961 2.91988735 1.99689057 4.22019228 4.99805826 2.8792603\n",
      " 2.59479116 4.36532309 3.84867659 4.10410361 5.52049722 1.39898998\n",
      " 5.59595885 1.62537487 2.14781383 3.27981813 4.96322368 5.00385072\n",
      " 4.91680417 5.88622046 3.84288413 7.19231785 4.26081933 3.7674225\n",
      " 4.92259663 4.81230041 2.54257919 5.14318906 5.67142048 4.96322368\n",
      " 3.59324957 1.69504404 3.99380739 3.6222917  3.40169926 3.65712628\n",
      " 4.22019228 6.04293618 1.96205598 0.87655102 5.10835448 3.47716089\n",
      " 2.47870248 1.93301386 5.59595885]\n"
     ]
    }
   ],
   "source": [
    "#test_size = 0.5\n",
    "x_train, x_test, y_train, y_test = train_test_split(x, y, test_size = 0.5, random_state = 0)\n",
    "mlr = LinearRegression()\n",
    "mlr.fit(x_train, y_train)\n",
    "y_predict = mlr.predict(x_test)\n",
    "print(y_predict)"
   ]
  },
  {
   "cell_type": "code",
   "execution_count": 61,
   "id": "43045b30",
   "metadata": {},
   "outputs": [
    {
     "data": {
      "text/plain": [
       "0.822496836326083"
      ]
     },
     "execution_count": 61,
     "metadata": {},
     "output_type": "execute_result"
    }
   ],
   "source": [
    "r2_score(y_test,y_predict)"
   ]
  },
  {
   "cell_type": "code",
   "execution_count": 62,
   "id": "4ea829c9",
   "metadata": {},
   "outputs": [],
   "source": [
    "df=pd.read_csv(\"C:/Users/USER/Desktop/MLRNOTES-21FEB2023/diabetes.csv\")"
   ]
  },
  {
   "cell_type": "code",
   "execution_count": 63,
   "id": "db96ebad",
   "metadata": {},
   "outputs": [
    {
     "data": {
      "text/html": [
       "<div>\n",
       "<style scoped>\n",
       "    .dataframe tbody tr th:only-of-type {\n",
       "        vertical-align: middle;\n",
       "    }\n",
       "\n",
       "    .dataframe tbody tr th {\n",
       "        vertical-align: top;\n",
       "    }\n",
       "\n",
       "    .dataframe thead th {\n",
       "        text-align: right;\n",
       "    }\n",
       "</style>\n",
       "<table border=\"1\" class=\"dataframe\">\n",
       "  <thead>\n",
       "    <tr style=\"text-align: right;\">\n",
       "      <th></th>\n",
       "      <th>Pregnancies</th>\n",
       "      <th>Glucose</th>\n",
       "      <th>BloodPressure</th>\n",
       "      <th>SkinThickness</th>\n",
       "      <th>Insulin</th>\n",
       "      <th>BMI</th>\n",
       "      <th>DiabetesPedigreeFunction</th>\n",
       "      <th>Age</th>\n",
       "      <th>Outcome</th>\n",
       "    </tr>\n",
       "  </thead>\n",
       "  <tbody>\n",
       "    <tr>\n",
       "      <th>0</th>\n",
       "      <td>6</td>\n",
       "      <td>148</td>\n",
       "      <td>72</td>\n",
       "      <td>35</td>\n",
       "      <td>0</td>\n",
       "      <td>33.6</td>\n",
       "      <td>0.627</td>\n",
       "      <td>50</td>\n",
       "      <td>1</td>\n",
       "    </tr>\n",
       "    <tr>\n",
       "      <th>1</th>\n",
       "      <td>1</td>\n",
       "      <td>85</td>\n",
       "      <td>66</td>\n",
       "      <td>29</td>\n",
       "      <td>0</td>\n",
       "      <td>26.6</td>\n",
       "      <td>0.351</td>\n",
       "      <td>31</td>\n",
       "      <td>0</td>\n",
       "    </tr>\n",
       "    <tr>\n",
       "      <th>2</th>\n",
       "      <td>8</td>\n",
       "      <td>183</td>\n",
       "      <td>64</td>\n",
       "      <td>0</td>\n",
       "      <td>0</td>\n",
       "      <td>23.3</td>\n",
       "      <td>0.672</td>\n",
       "      <td>32</td>\n",
       "      <td>1</td>\n",
       "    </tr>\n",
       "    <tr>\n",
       "      <th>3</th>\n",
       "      <td>1</td>\n",
       "      <td>89</td>\n",
       "      <td>66</td>\n",
       "      <td>23</td>\n",
       "      <td>94</td>\n",
       "      <td>28.1</td>\n",
       "      <td>0.167</td>\n",
       "      <td>21</td>\n",
       "      <td>0</td>\n",
       "    </tr>\n",
       "    <tr>\n",
       "      <th>4</th>\n",
       "      <td>0</td>\n",
       "      <td>137</td>\n",
       "      <td>40</td>\n",
       "      <td>35</td>\n",
       "      <td>168</td>\n",
       "      <td>43.1</td>\n",
       "      <td>2.288</td>\n",
       "      <td>33</td>\n",
       "      <td>1</td>\n",
       "    </tr>\n",
       "    <tr>\n",
       "      <th>...</th>\n",
       "      <td>...</td>\n",
       "      <td>...</td>\n",
       "      <td>...</td>\n",
       "      <td>...</td>\n",
       "      <td>...</td>\n",
       "      <td>...</td>\n",
       "      <td>...</td>\n",
       "      <td>...</td>\n",
       "      <td>...</td>\n",
       "    </tr>\n",
       "    <tr>\n",
       "      <th>763</th>\n",
       "      <td>10</td>\n",
       "      <td>101</td>\n",
       "      <td>76</td>\n",
       "      <td>48</td>\n",
       "      <td>180</td>\n",
       "      <td>32.9</td>\n",
       "      <td>0.171</td>\n",
       "      <td>63</td>\n",
       "      <td>0</td>\n",
       "    </tr>\n",
       "    <tr>\n",
       "      <th>764</th>\n",
       "      <td>2</td>\n",
       "      <td>122</td>\n",
       "      <td>70</td>\n",
       "      <td>27</td>\n",
       "      <td>0</td>\n",
       "      <td>36.8</td>\n",
       "      <td>0.340</td>\n",
       "      <td>27</td>\n",
       "      <td>0</td>\n",
       "    </tr>\n",
       "    <tr>\n",
       "      <th>765</th>\n",
       "      <td>5</td>\n",
       "      <td>121</td>\n",
       "      <td>72</td>\n",
       "      <td>23</td>\n",
       "      <td>112</td>\n",
       "      <td>26.2</td>\n",
       "      <td>0.245</td>\n",
       "      <td>30</td>\n",
       "      <td>0</td>\n",
       "    </tr>\n",
       "    <tr>\n",
       "      <th>766</th>\n",
       "      <td>1</td>\n",
       "      <td>126</td>\n",
       "      <td>60</td>\n",
       "      <td>0</td>\n",
       "      <td>0</td>\n",
       "      <td>30.1</td>\n",
       "      <td>0.349</td>\n",
       "      <td>47</td>\n",
       "      <td>1</td>\n",
       "    </tr>\n",
       "    <tr>\n",
       "      <th>767</th>\n",
       "      <td>1</td>\n",
       "      <td>93</td>\n",
       "      <td>70</td>\n",
       "      <td>31</td>\n",
       "      <td>0</td>\n",
       "      <td>30.4</td>\n",
       "      <td>0.315</td>\n",
       "      <td>23</td>\n",
       "      <td>0</td>\n",
       "    </tr>\n",
       "  </tbody>\n",
       "</table>\n",
       "<p>768 rows × 9 columns</p>\n",
       "</div>"
      ],
      "text/plain": [
       "     Pregnancies  Glucose  BloodPressure  SkinThickness  Insulin   BMI  \\\n",
       "0              6      148             72             35        0  33.6   \n",
       "1              1       85             66             29        0  26.6   \n",
       "2              8      183             64              0        0  23.3   \n",
       "3              1       89             66             23       94  28.1   \n",
       "4              0      137             40             35      168  43.1   \n",
       "..           ...      ...            ...            ...      ...   ...   \n",
       "763           10      101             76             48      180  32.9   \n",
       "764            2      122             70             27        0  36.8   \n",
       "765            5      121             72             23      112  26.2   \n",
       "766            1      126             60              0        0  30.1   \n",
       "767            1       93             70             31        0  30.4   \n",
       "\n",
       "     DiabetesPedigreeFunction  Age  Outcome  \n",
       "0                       0.627   50        1  \n",
       "1                       0.351   31        0  \n",
       "2                       0.672   32        1  \n",
       "3                       0.167   21        0  \n",
       "4                       2.288   33        1  \n",
       "..                        ...  ...      ...  \n",
       "763                     0.171   63        0  \n",
       "764                     0.340   27        0  \n",
       "765                     0.245   30        0  \n",
       "766                     0.349   47        1  \n",
       "767                     0.315   23        0  \n",
       "\n",
       "[768 rows x 9 columns]"
      ]
     },
     "execution_count": 63,
     "metadata": {},
     "output_type": "execute_result"
    }
   ],
   "source": [
    "df"
   ]
  },
  {
   "cell_type": "code",
   "execution_count": 64,
   "id": "78dffe5d",
   "metadata": {},
   "outputs": [],
   "source": [
    "x=df[['Glucose','BloodPressure']]\n",
    "y=df['Age']"
   ]
  },
  {
   "cell_type": "code",
   "execution_count": 65,
   "id": "6c6fa884",
   "metadata": {},
   "outputs": [
    {
     "name": "stdout",
     "output_type": "stream",
     "text": [
      "[41.72678976 32.77654658 28.49143953 38.14850907 32.14735275 30.08634032\n",
      " 37.4930158  40.66591731 32.88047856 32.17301929 37.83797895 40.58860123\n",
      " 33.44048989 27.93987823 28.56875562 32.19900229 39.38154665 26.86210572\n",
      " 36.49255937 29.7764431  37.18248567 34.49227941 22.5867145  29.31001501\n",
      " 30.93153169 32.82006254 32.71613057 38.70852041 32.35426735 32.38870038\n",
      " 35.52716886 31.1816458  33.64708805 31.73384    31.67342398 37.44168271\n",
      " 36.64782443 35.51808594 30.55276841 38.57987124 32.79407955 31.61237506\n",
      " 30.44883644 40.48530215 40.86469833 32.41436692 31.52660895 33.74256999\n",
      " 31.8455891  35.15622272 34.57022839 30.40595338 36.5016423  37.41506682\n",
      " 30.58656854 19.71399439 29.79334316 36.2249123  34.88920855 25.24248773\n",
      " 42.05358705 36.57050835 33.81143604 27.42401575 39.89022489 41.31296056\n",
      " 39.84670894 34.64754447 30.21625529 29.90509227 31.75074006 25.62188391\n",
      " 30.11232332 42.22638508 38.6227543  36.74267348 32.66353168 37.23445166\n",
      " 31.84495621 31.37979392 32.33673439 35.52716886 33.06109372 30.70740058\n",
      " 30.06944026 32.02620426 33.57040486 27.46626591 40.91603142 31.09524678\n",
      " 34.38898034 35.98388112 30.65606749 33.06954375 39.07946655 31.36289385\n",
      " 32.05218726 37.94127803 32.93181165 33.31120782 34.11288323 29.55231198\n",
      " 35.07827374 30.7418336  33.64772094 32.4231334  35.92346511 35.17375568\n",
      " 32.69014757 38.86441837 29.18136584 34.14731626 35.29458772 37.45794988\n",
      " 40.15723907 39.24318165 31.52660895 38.24399102 34.50072944 34.6819775\n",
      " 33.69905403 36.20737934 32.63881448 34.55269543 36.19111217 29.59519504\n",
      " 36.24244526 33.63018798 33.19100868 40.79519938 34.69106043 24.29399729\n",
      " 28.74155364 38.26934111 30.42285344 32.52643248 30.08697322 31.50062595\n",
      " 27.70856288 31.76827302 29.08651679 37.01032055 30.79379959 28.95660183\n",
      " 32.54396544 30.22470532 30.07789029 29.31909794 31.1556628  33.25924184\n",
      " 28.8968187  37.44104981 33.63018798 32.55241547 37.30331771 30.25913835\n",
      " 40.07084005 30.94906465 25.71673295 27.13946862 37.22600163 41.47667565\n",
      " 26.44827652 32.63036445 39.15741553 25.62188391 28.26730842 31.58702497\n",
      " 32.69078047 34.37989741 25.46598595 29.1982659  32.77654658 32.30230136\n",
      " 36.76865647 30.81069965 31.41422694 30.82759972 33.28522483 30.13830631\n",
      " 33.19882582 42.09647011 29.49157951 38.80400235 35.07890664 25.45627012\n",
      " 26.76007244 34.16484922 34.49291231 31.39732688 35.21663874 31.42267697\n",
      " 29.72447711 32.02683716 31.93135522 36.8030895  37.0532036  35.88966498\n",
      " 29.83685911 33.1384098  31.81115608 34.46692932 30.82823261 37.32021777\n",
      " 32.22498528 27.91389524 31.41422694 31.79362312 37.3293007  32.37180031\n",
      " 32.87107918 29.62962806 33.02666069 35.38098673 32.57839846 30.75873366\n",
      " 31.22516175 34.15639919 35.2088216  32.18146933 30.51770249 31.08679675\n",
      " 36.33729431 36.00986412 37.80322948 37.13928617 32.49199945 33.19037579\n",
      " 30.06944026 32.90582865 34.64754447]\n"
     ]
    }
   ],
   "source": [
    "x_train, x_test, y_train, y_test = train_test_split(x, y, test_size = 0.3, random_state = 0)\n",
    "mlr = LinearRegression()\n",
    "mlr.fit(x_train, y_train)\n",
    "y_predict = mlr.predict(x_test)\n",
    "print(y_predict)"
   ]
  },
  {
   "cell_type": "code",
   "execution_count": 66,
   "id": "212706f3",
   "metadata": {},
   "outputs": [
    {
     "data": {
      "text/plain": [
       "0.08891533749517166"
      ]
     },
     "execution_count": 66,
     "metadata": {},
     "output_type": "execute_result"
    }
   ],
   "source": [
    "r2_score(y_test,y_predict)"
   ]
  },
  {
   "cell_type": "code",
   "execution_count": 67,
   "id": "ce31c52f",
   "metadata": {},
   "outputs": [
    {
     "name": "stdout",
     "output_type": "stream",
     "text": [
      "[40.52021164 32.58993021 28.41726551 37.24076703 31.73086528 30.1586806\n",
      " 36.86919879 39.92870414 32.13658866 31.9916912  37.10414642 39.52038768\n",
      " 33.17316086 27.59235573 28.82558198 31.87835582 38.32390966 26.5775234\n",
      " 36.26268293 29.27373737 36.73257819 34.30132858 21.11987586 29.81712909\n",
      " 30.69688616 32.15159702 32.60493858 38.27733923 31.94666612 32.04499314\n",
      " 35.00617147 30.84851513 33.76312302 30.92510228 30.94011064 36.34754694\n",
      " 36.33099323 35.54283168 29.61528888 37.34737091 32.26493241 31.70344164\n",
      " 30.06863043 39.2254066  39.55868125 32.30581907 31.08346276 33.09811905\n",
      " 31.43174577 34.88455922 33.96132241 29.75864099 35.72602272 37.20920496\n",
      " 30.46193853 20.23029658 29.69706219 36.43605177 34.30960543 23.45279844\n",
      " 41.8284797  35.92267677 33.2947731  25.36912771 38.83883    40.08860996\n",
      " 39.27716319 34.36963888 29.59200366 30.20370569 31.34842711 23.7860731\n",
      " 30.04534521 41.5717922  37.65736035 36.4143119  33.57993198 36.50590741\n",
      " 32.1800684  31.22681487 32.27166392 35.00617147 32.83988621 30.43192181\n",
      " 29.73535577 32.13504332 32.60648392 26.42743978 40.08033311 30.97685888\n",
      " 34.0063475  35.74776259 29.91026995 33.05154862 38.39895147 30.80349004\n",
      " 32.02170793 37.3991275  32.65824052 32.99151517 33.96805392 29.00877301\n",
      " 35.22456539 30.53024883 33.01480039 32.14332017 35.76277095 34.55956142\n",
      " 32.71827396 37.5973269  28.88716077 34.06638095 34.5295447  37.5191944\n",
      " 39.4137838  38.67892418 31.08346276 36.57576306 34.51299099 34.4679659\n",
      " 33.53645224 36.76104957 32.19662211 34.28632021 35.58940211 29.31876245\n",
      " 36.11105397 33.33979819 32.27320927 40.11034983 33.93130569 22.6196118\n",
      " 28.56889448 37.2107503  30.18196582 32.43830125 29.41035797 31.19679814\n",
      " 25.6190837  31.02342931 28.80384211 36.24094306 30.30357806 29.37051905\n",
      " 32.11330345 29.80366607 29.94701819 29.28046888 30.96185051 33.21818595\n",
      " 28.63720478 37.09586957 33.33979819 32.32496586 36.70256147 29.9019931\n",
      " 39.54212755 30.37188836 23.86939176 25.11917172 36.294245   40.36858268\n",
      " 26.14592172 31.9849597  38.0589453  23.7860731  28.15230116 31.06845439\n",
      " 31.96995133 34.54300771 24.46608543 29.3104856  32.58993021 32.17333689\n",
      " 36.30097651 30.72690288 31.32514189 31.15022771 33.10485056 29.93200982\n",
      " 33.23319431 42.13846914 29.39794269 37.61233526 34.47624276 25.75106827\n",
      " 24.78589706 33.74138315 33.55300595 30.90181707 34.86955086 31.53680431\n",
      " 29.50040814 31.38672069 32.05172465 36.39930354 36.5509325  34.91612129\n",
      " 29.25872901 33.24820267 31.33341875 33.66634134 30.40190508 37.12588629\n",
      " 31.76502043 27.70569112 31.32514189 31.65841655 36.58922608 31.62166832\n",
      " 33.04741019 29.41708948 32.74155918 34.40120095 32.21163047 30.95357366\n",
      " 30.41018194 33.52972073 33.90956582 32.20335362 30.26528448 30.76519646\n",
      " 36.19437263 35.6344272  37.37998071 36.79675007 32.33997422 33.02153189\n",
      " 29.73535577 32.7715759  34.36963888 38.37566625 29.79538922 33.30978146\n",
      " 36.36928681 33.65806448 32.33997422 38.19402056 30.94684215 37.83900604\n",
      " 31.0068756  24.86921573 33.88473526 34.61131802 29.75036413 32.00669957\n",
      " 33.0282634  36.05102052 32.17333689 35.5143603  32.85489457 36.81589685\n",
      " 31.96840599 30.89508556 33.21818595 36.99081104 34.70291353 33.33152133\n",
      " 32.38499931 34.21800991 21.45315051 29.03878974 30.43192181 34.10467453\n",
      " 34.24802664 25.95599917 22.20301849 40.46277128 33.52144388 26.99411672\n",
      " 23.36947978 28.81057362 29.56458002 23.7860731  36.33099323 34.61959487\n",
      " 27.82316493 30.84178362 33.36722183 30.98359038 30.75691961 37.75568737\n",
      " 33.92302884 32.65824052 31.21180651 31.33341875 20.53664521 31.73345836\n",
      " 28.23975825 25.95235836 36.51418427 33.04481711 28.40225715 36.11933082\n",
      " 28.19887159 39.55868125 40.27025565 29.53042487 29.75036413 34.4679659\n",
      " 33.30150461 35.5826706  31.79503715 30.50023211 35.5661169  35.74103108\n",
      " 33.45467892 34.30960543]\n"
     ]
    }
   ],
   "source": [
    "#test_size = 0.4\n",
    "x_train, x_test, y_train, y_test = train_test_split(x, y, test_size = 0.4, random_state = 0)\n",
    "mlr = LinearRegression()\n",
    "mlr.fit(x_train, y_train)\n",
    "y_predict = mlr.predict(x_test)\n",
    "print(y_predict)"
   ]
  },
  {
   "cell_type": "code",
   "execution_count": 68,
   "id": "e563e2d9",
   "metadata": {},
   "outputs": [
    {
     "data": {
      "text/plain": [
       "0.10807975843165007"
      ]
     },
     "execution_count": 68,
     "metadata": {},
     "output_type": "execute_result"
    }
   ],
   "source": [
    "r2_score(y_test,y_predict)"
   ]
  },
  {
   "cell_type": "code",
   "execution_count": 69,
   "id": "ea160c3a",
   "metadata": {},
   "outputs": [
    {
     "name": "stdout",
     "output_type": "stream",
     "text": [
      "[39.29716586 32.95047973 29.07747458 36.51794687 31.83486942 30.93713212\n",
      " 36.51757844 39.31843736 31.81341371 32.38157829 36.60524345 38.50928613\n",
      " 33.41007624 27.94004013 29.88662581 32.09731178 37.37148325 27.04285547\n",
      " 36.42954501 29.36247794 36.60487502 34.59152741 20.3051769  31.15537355\n",
      " 31.06881383 31.92271864 33.05978466 38.11460941 32.0536635  32.22862507\n",
      " 34.85452241 31.09082219 34.45984569 30.56630589 30.67561083 35.42416071\n",
      " 36.38589673 36.05724508 29.14423651 36.21204044 32.20698514 32.4468665\n",
      " 30.28130253 37.9844014  38.24702798 32.77533394 31.17848719 32.86355158\n",
      " 31.5504187  35.05112391 33.73872789 29.64711288 35.22682235 37.37037796\n",
      " 30.98114883 21.94364557 30.2809341  37.15103124 34.1106594  22.14356294\n",
      " 41.7902762  35.5767455  33.21347473 23.65366575 37.87472804 38.85957771\n",
      " 38.90248914 34.54787912 29.51579959 31.26504691 31.48476206 22.40618951\n",
      " 30.65286561 41.00313332 36.84623009 36.45155337 35.29026842 36.03634201\n",
      " 33.21236945 31.68136356 32.79715808 34.85452241 33.14744966 30.76253897\n",
      " 30.01867595 32.88445466 31.98874371 25.94980616 39.34044572 31.48439363\n",
      " 34.06664268 35.92630022 29.66912123 33.60667774 37.9180079  30.7629074\n",
      " 32.60018815 37.13012817 32.90683144 33.16945802 34.32890083 29.05620308\n",
      " 35.90392343 30.93750054 32.79789494 32.40358665 36.03560515 34.30762933\n",
      " 33.34405117 36.40901037 29.25280458 34.5038624  34.08901947 38.00456762\n",
      " 38.81519256 38.3335877  31.17848719 34.92165277 35.05075549 34.72284069\n",
      " 33.89131268 37.89452583 32.25063343 34.48222247 35.31411892 29.69039273\n",
      " 36.40753666 33.54138953 31.72611713 39.55905558 33.52011803 21.4869965\n",
      " 29.09948294 36.29933701 30.56556904 32.92847137 29.27518137 31.4627537\n",
      " 23.85063569 30.74126747 29.18714794 35.73006714 30.36896753 30.60848047\n",
      " 32.18497678 29.97502767 30.47790404 29.95265088 31.3750887  33.73799103\n",
      " 29.05583465 37.08611146 33.54138953 32.64420487 36.38626516 30.14998924\n",
      " 39.208764   30.32531925 22.47184616 23.45669582 35.57711393 39.2751575\n",
      " 26.60526731 31.79140535 37.06520839 22.40618951 28.77119971 31.06918226\n",
      " 31.68210042 35.26936535 24.11178855 30.17126074 32.95047973 32.62219651\n",
      " 36.16728687 31.28742369 31.85632514 32.20587986 33.45372452 30.3685991\n",
      " 33.84729596 42.42446585 29.99648338 36.5183153  34.24197268 26.97646196\n",
      " 23.19406924 33.76036782 32.92957666 30.93786897 34.94181898 32.31555322\n",
      " 29.93101095 31.22250391 32.81879801 36.34224844 36.3642568  34.19869283\n",
      " 29.25317301 33.95660089 31.37545713 33.21384316 30.54392911 37.30472132\n",
      " 31.81304528 28.22430663 31.85632514 32.11895171 36.10199865 31.31016891\n",
      " 33.84711175 29.86535431 32.97248809 33.69544803 32.35993836 31.85595671\n",
      " 30.0630611  33.30113974 32.82064016 32.84080637 30.63122568 31.02516555\n",
      " 36.4731933  35.64203371 37.26125725 36.80166074 32.7535098  33.38806788\n",
      " 30.01867595 33.19109795 34.54787912 38.28957098 30.45589568 33.32277967\n",
      " 36.12363858 33.69471117 32.7535098  38.04895276 31.26578377 37.08684831\n",
      " 31.70300349 23.25972589 34.26324418 35.22571706 30.12798089 32.49088322\n",
      " 33.97824082 35.97031693 32.62219651 34.76759427 33.25675459 36.67053166\n",
      " 32.75314137 30.34769603 33.73799103 36.32097694 34.8105057  34.02225754\n",
      " 33.08142459 34.52587076 20.56780348 29.27481294 30.76253897 34.24160426\n",
      " 34.74448062 26.8455171  21.15871327 39.69055308 33.78200775 27.37113869\n",
      " 22.07790629 29.77732088 30.12779667 22.40618951 36.38589673 34.74484905\n",
      " 28.26813913 30.50064925 32.92939244 32.07456657 31.50603356 37.02119167\n",
      " 34.00098604 32.90683144 31.57205863 31.37545713 19.84558039 32.66547637\n",
      " 28.59642235 24.11326226 35.555474   33.0165048  28.96816965 35.92666865\n",
      " 28.02807356 38.24702798 39.10019593 30.14962081 30.12798089 34.72284069\n",
      " 33.80364767 34.72394598 32.03165514 30.71889068 35.685682   35.33612728\n",
      " 32.75461508 34.1106594  35.07313227 31.17775034 32.92957666 31.44037691\n",
      " 32.27190493 33.10453823 33.7163511  37.50132282 28.92452136 33.7389121\n",
      " 39.58143237 30.45700096 33.0165048  34.19795597 27.41478697 24.96495649\n",
      " 29.42813459 43.84727209 36.84549324 35.11641213 31.26578377 35.88302036\n",
      " 36.80295024 34.9858357  38.17989762 30.76364426 30.54356068 31.30943205\n",
      " 35.92703708 30.91549219 36.89024681 31.50640199 34.00172289 33.71671953\n",
      " 37.8516144  26.60821474 36.60487502 32.24989657 35.24809385 33.36642795\n",
      " 38.61859106 26.41124481 38.94540057 37.69866118 34.98546727 35.64166528\n",
      " 30.93713212 37.58935625 33.87004118 32.99486487 28.42201342 32.074935\n",
      " 37.59046154 37.98255926 36.34188001 32.42522658 33.10343295 33.19146638\n",
      " 36.40827351 32.64457329 31.17848719 39.14347578 36.49557009 29.88736267\n",
      " 31.13410205 22.14356294 25.00639421 39.09945907 33.14781809 32.40321822\n",
      " 30.34659075 37.74378318 33.84803282 29.9966676  33.49774124 37.19578482]\n"
     ]
    }
   ],
   "source": [
    "#test_size = 0.5\n",
    "x_train, x_test, y_train, y_test = train_test_split(x, y, test_size = 0.5, random_state = 0)\n",
    "mlr = LinearRegression()\n",
    "mlr.fit(x_train, y_train)\n",
    "y_predict = mlr.predict(x_test)\n",
    "print(y_predict)"
   ]
  },
  {
   "cell_type": "code",
   "execution_count": 70,
   "id": "56c57e88",
   "metadata": {},
   "outputs": [
    {
     "data": {
      "text/plain": [
       "0.10994067307318389"
      ]
     },
     "execution_count": 70,
     "metadata": {},
     "output_type": "execute_result"
    }
   ],
   "source": [
    "r2_score(y_test,y_predict)"
   ]
  },
  {
   "cell_type": "code",
   "execution_count": null,
   "id": "752f540b",
   "metadata": {},
   "outputs": [],
   "source": []
  }
 ],
 "metadata": {
  "kernelspec": {
   "display_name": "Python 3 (ipykernel)",
   "language": "python",
   "name": "python3"
  },
  "language_info": {
   "codemirror_mode": {
    "name": "ipython",
    "version": 3
   },
   "file_extension": ".py",
   "mimetype": "text/x-python",
   "name": "python",
   "nbconvert_exporter": "python",
   "pygments_lexer": "ipython3",
   "version": "3.9.7"
  }
 },
 "nbformat": 4,
 "nbformat_minor": 5
}
