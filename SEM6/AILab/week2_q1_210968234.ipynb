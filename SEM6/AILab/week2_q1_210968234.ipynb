{
  "cells": [
    {
      "cell_type": "markdown",
      "source": [
        "# Naina Chabra\n",
        "# 210968234\n",
        "# week-2\n"
      ],
      "metadata": {},
      "id": "9ff7ee3f"
    },
    {
      "cell_type": "markdown",
      "source": [
        "**QUESTION 1** \n",
        "\n",
        "\n",
        "**The Game :**\n",
        "\n",
        "According to the “Six Degrees of Kevin Bacon” game, anyone in the\n",
        "Hollywood film industry can be connected to Kevin Bacon within six steps, where each\n",
        "step consists of finding a film that two actors both starred in. To solve the problem,\n",
        "find the shortest path between any two actors by choosing a sequence of movies that\n",
        "connects them. For example, the shortest path between Jennifer Lawrence and Tom\n",
        "Hanks is 2: Jennifer Lawrence is connected to Kevin Bacon by both starring in “X-Men:\n",
        "First Class,” and Kevin Bacon is connected to Tom Hanks by both starring in “Apollo\n",
        "13.”\n",
        "\n",
        "\n",
        "**Problem Solving Agent:**\n",
        "\n",
        "Given two actors nodes in the graph we need to find the distance (shortest\n",
        "path) between the nodes. Write a python program to determine how many “degrees\n",
        "of separation” apart two actors are. Find the distance or the degree of separation.,\n",
        "using\n",
        "a. Breadth first search\n",
        "b. Depth first search"
      ],
      "metadata": {},
      "id": "263838d4"
    },
    {
      "cell_type": "code",
      "source": [
        "import pandas as pd\n",
        "\n",
        "# Reading all the datasets\n",
        "df1 = pd.read_csv('movies.csv')\n",
        "df2 = pd.read_csv('people.csv')\n",
        "df3 = pd.read_csv('stars.csv')\n",
        "\n",
        "# Renaming the columns\n",
        "df1.rename(columns = {'id':'movie_id'}, inplace = True)\n",
        "df2.rename(columns = {'id':'person_id'}, inplace = True)\n",
        "\n",
        "# Merging the datasets\n",
        "df = df3.merge(df1, on='movie_id', how='left').merge(df2, on='person_id', how='left')\n",
        "\n",
        "#Dropping unnecessary columns\n",
        "df = df.drop(['birth', 'person_id', 'movie_id'], axis = 1)\n",
        "\n",
        "#Sorting the columns\n",
        "df = df.sort_index(axis=1)\n",
        "\n",
        "#Saving the dataset\n",
        "df.to_csv('small.csv', index=False)"
      ],
      "outputs": [],
      "execution_count": 2,
      "metadata": {},
      "id": "6c97dae9"
    },
    {
      "cell_type": "markdown",
      "source": [
        "# Implementing Bfs"
      ],
      "metadata": {},
      "id": "e4cda225"
    },
    {
      "cell_type": "markdown",
      "source": [
        "For breadth first we need to\n",
        "\n",
        "1:Maintain a queue that is able to pop out the current lowest level node\n",
        "\n",
        "2:Keep track of the trajectory\n",
        "\n",
        "\n",
        "path : the current nodes has been visited on that particular expansion\n",
        "\n",
        "queue : maintains (current_node, current_path) and is able to pop out the node of the lowest level\n",
        "\n",
        "Note that to avoid visit a node a second time, we use a closed list called as visited.\n",
        "\n",
        "\n"
      ],
      "metadata": {},
      "id": "c984740c"
    },
    {
      "cell_type": "code",
      "source": [
        "import csv\n",
        "import sys\n",
        "\n",
        "from queue import Queue\n",
        "\n",
        "# Function to load data from the CSV file\n",
        "def load_data(filename):\n",
        "    data = {}\n",
        "    with open(filename, \"r\") as file:\n",
        "        reader = csv.reader(file)\n",
        "        next(reader)\n",
        "        for row in reader:\n",
        "            if row[0] not in data:\n",
        "                data[row[0]] = set()\n",
        "            data[row[0]].add(row[1])\n",
        "            if row[1] not in data:\n",
        "                data[row[1]] = set()\n",
        "            data[row[1]].add(row[0])\n",
        "    return data\n",
        "\n",
        "# Function to find the shortest path between two actors using BFS\n",
        "def bfs(start, end, data):\n",
        "    visited = set()\n",
        "    queue = Queue()\n",
        "    queue.put((start, 0))\n",
        "    while not queue.empty():\n",
        "        actor, degree = queue.get()\n",
        "        if actor == end:\n",
        "            return degree\n",
        "        visited.add(actor)\n",
        "        for neighbor in data[actor]:\n",
        "            if neighbor not in visited:\n",
        "                queue.put((neighbor, degree + 1))\n",
        "    return None\n",
        "\n",
        "# Main function\n",
        "def main():\n",
        "\n",
        "    data = load_data('small.csv')\n",
        "    start = \"Bill Paxton\"\n",
        "    end = \"Robin Wright\"\n",
        "    degree = bfs(start, end, data)\n",
        "    if degree is None:\n",
        "        print(\"No connection found\")\n",
        "    else:\n",
        "        print(f\"{start} and {end}: Degree of Separation = {degree} \")\n",
        "\n",
        "if __name__ == \"__main__\":\n",
        "    main()\n"
      ],
      "outputs": [
        {
          "output_type": "stream",
          "name": "stdout",
          "text": "Bill Paxton and Robin Wright: Degree of Separation = 4 \n"
        }
      ],
      "execution_count": 3,
      "metadata": {},
      "id": "98091cd7"
    },
    {
      "cell_type": "markdown",
      "source": [
        "# Implementing DFS"
      ],
      "metadata": {},
      "id": "f65e6527"
    },
    {
      "cell_type": "markdown",
      "source": [
        "\n",
        "\n",
        "**The working logic of the DFS algorithm consists of the following steps:**\n",
        "\n",
        "Select the start node.\n",
        "Visit the start node.\n",
        "Explore the neighbors of the start node.\n",
        "If there are undiscovered neighbor nodes, switch to that node and repeat the steps (recursively or using a chunk data structure).\n",
        "When there are no undiscovered neighbor nodes, go back and return to the previous node.\n",
        "Repeat the steps until all nodes have been visited."
      ],
      "metadata": {},
      "id": "9e3525fd"
    },
    {
      "cell_type": "code",
      "source": [
        "import csv\n",
        "\n",
        "# Load the data from the CSV file into a dictionary\n",
        "def load_data(filename):\n",
        "    data = {}\n",
        "    with open(filename, 'r') as file:\n",
        "        reader = csv.reader(file)\n",
        "        for row in reader:\n",
        "            actor = row[0]\n",
        "            movie = row[1]\n",
        "            if actor not in data:\n",
        "                data[actor] = set()\n",
        "            data[actor].add(movie)\n",
        "            if movie not in data:\n",
        "                data[movie] = set()\n",
        "            data[movie].add(actor)\n",
        "    return data\n",
        "\n",
        "# Find the shortest path between two actors using depth first search\n",
        "def dfs(data, start, end, path=None):\n",
        "    if path is None:\n",
        "        path = [start]\n",
        "    if start == end:\n",
        "        return path\n",
        "    for actor in data[start]:\n",
        "        if actor not in path:\n",
        "            new_path = dfs(data, actor, end, path + [actor])\n",
        "            if new_path is not None:\n",
        "                return new_path\n",
        "    return None\n",
        "\n",
        "# Load the data from the CSV file\n",
        "data = load_data('small.csv')\n",
        "\n",
        "# Find the shortest path between Kevin Bacon and Tom Hanks\n",
        "path = dfs(data, 'Kevin Bacon', 'Tom Cruise')\n",
        "\n",
        "# Print the shortest path\n",
        "if path is None:\n",
        "    print(\"No path found\")\n",
        "else:\n",
        "    print(\" -> \".join(path))\n"
      ],
      "outputs": [
        {
          "output_type": "stream",
          "name": "stdout",
          "text": "Kevin Bacon -> A Few Good Men -> Tom Cruise\n"
        }
      ],
      "execution_count": 4,
      "metadata": {},
      "id": "c5eb8f2c"
    },
    {
      "cell_type": "code",
      "source": [],
      "outputs": [],
      "execution_count": null,
      "metadata": {},
      "id": "b3c50614"
    }
  ],
  "metadata": {
    "kernelspec": {
      "display_name": "Python 3 (ipykernel)",
      "language": "python",
      "name": "python3"
    },
    "language_info": {
      "codemirror_mode": {
        "name": "ipython",
        "version": 3
      },
      "file_extension": ".py",
      "mimetype": "text/x-python",
      "name": "python",
      "nbconvert_exporter": "python",
      "pygments_lexer": "ipython3",
      "version": "3.9.12"
    },
    "nteract": {
      "version": "nteract-front-end@1.0.0"
    }
  },
  "nbformat": 4,
  "nbformat_minor": 5
}