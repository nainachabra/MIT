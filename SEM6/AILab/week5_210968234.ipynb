{
  "cells": [
    {
      "cell_type": "markdown",
      "source": [
        "**MAB agent  Problem formulation :**\n",
        "\n",
        "The problem agent formulation involves determining the most optimal ad to display to a user at a given time instant to maximize the number of clicks on the webpage.\n",
        "The problem can be defined as :\n",
        "\n",
        "-- There are 10 different ads to choose from, and at each time step, the MAB agent must decide which ad to display to the user.\n",
        "-- Each ad has an unknown click-through rate (CTR) that represents the probability of a user clicking on that ad.\n",
        "\n",
        "-- The MAB agent must balance the exploration of less-known ads to learn their CTRs with the exploitation of the ads that are known to have higher CTRs to maximize the total number of clicks.\n",
        "\n",
        "-- The MAB agent's objective is to learn the true CTR of each ad while minimizing the regret, which is the difference between the expected number of clicks obtained by displaying the best ad and the expected number of clicks obtained by displaying the chosen ad at each time step.\n",
        "\n",
        "**Initial state**:First ad\n",
        "\n",
        "**Possible Action**:Can Choose any ad to show.\n",
        "\n",
        "\n",
        "\n",
        "**Goal**is to maximize the total number of clicks obtained from the users over a specified time horizon.\n",
        "\n",
        "**Path Cost**: 1 id the Ad is Clicked and 0 if it's not\n",
        "\n"
      ],
      "metadata": {
        "id": "FK5pipyiFZy4"
      }
    },
    {
      "cell_type": "code",
      "source": [
        "from google.colab import files\n",
        "uploaded = files.upload()"
      ],
      "outputs": [
        {
          "output_type": "display_data",
          "data": {
            "text/html": "\n     <input type=\"file\" id=\"files-7b3d8e1f-306a-4454-8c10-70a9ccd0cfe3\" name=\"files[]\" multiple disabled\n        style=\"border:none\" />\n     <output id=\"result-7b3d8e1f-306a-4454-8c10-70a9ccd0cfe3\">\n      Upload widget is only available when the cell has been executed in the\n      current browser session. Please rerun this cell to enable.\n      </output>\n      <script>// Copyright 2017 Google LLC\n//\n// Licensed under the Apache License, Version 2.0 (the \"License\");\n// you may not use this file except in compliance with the License.\n// You may obtain a copy of the License at\n//\n//      http://www.apache.org/licenses/LICENSE-2.0\n//\n// Unless required by applicable law or agreed to in writing, software\n// distributed under the License is distributed on an \"AS IS\" BASIS,\n// WITHOUT WARRANTIES OR CONDITIONS OF ANY KIND, either express or implied.\n// See the License for the specific language governing permissions and\n// limitations under the License.\n\n/**\n * @fileoverview Helpers for google.colab Python module.\n */\n(function(scope) {\nfunction span(text, styleAttributes = {}) {\n  const element = document.createElement('span');\n  element.textContent = text;\n  for (const key of Object.keys(styleAttributes)) {\n    element.style[key] = styleAttributes[key];\n  }\n  return element;\n}\n\n// Max number of bytes which will be uploaded at a time.\nconst MAX_PAYLOAD_SIZE = 100 * 1024;\n\nfunction _uploadFiles(inputId, outputId) {\n  const steps = uploadFilesStep(inputId, outputId);\n  const outputElement = document.getElementById(outputId);\n  // Cache steps on the outputElement to make it available for the next call\n  // to uploadFilesContinue from Python.\n  outputElement.steps = steps;\n\n  return _uploadFilesContinue(outputId);\n}\n\n// This is roughly an async generator (not supported in the browser yet),\n// where there are multiple asynchronous steps and the Python side is going\n// to poll for completion of each step.\n// This uses a Promise to block the python side on completion of each step,\n// then passes the result of the previous step as the input to the next step.\nfunction _uploadFilesContinue(outputId) {\n  const outputElement = document.getElementById(outputId);\n  const steps = outputElement.steps;\n\n  const next = steps.next(outputElement.lastPromiseValue);\n  return Promise.resolve(next.value.promise).then((value) => {\n    // Cache the last promise value to make it available to the next\n    // step of the generator.\n    outputElement.lastPromiseValue = value;\n    return next.value.response;\n  });\n}\n\n/**\n * Generator function which is called between each async step of the upload\n * process.\n * @param {string} inputId Element ID of the input file picker element.\n * @param {string} outputId Element ID of the output display.\n * @return {!Iterable<!Object>} Iterable of next steps.\n */\nfunction* uploadFilesStep(inputId, outputId) {\n  const inputElement = document.getElementById(inputId);\n  inputElement.disabled = false;\n\n  const outputElement = document.getElementById(outputId);\n  outputElement.innerHTML = '';\n\n  const pickedPromise = new Promise((resolve) => {\n    inputElement.addEventListener('change', (e) => {\n      resolve(e.target.files);\n    });\n  });\n\n  const cancel = document.createElement('button');\n  inputElement.parentElement.appendChild(cancel);\n  cancel.textContent = 'Cancel upload';\n  const cancelPromise = new Promise((resolve) => {\n    cancel.onclick = () => {\n      resolve(null);\n    };\n  });\n\n  // Wait for the user to pick the files.\n  const files = yield {\n    promise: Promise.race([pickedPromise, cancelPromise]),\n    response: {\n      action: 'starting',\n    }\n  };\n\n  cancel.remove();\n\n  // Disable the input element since further picks are not allowed.\n  inputElement.disabled = true;\n\n  if (!files) {\n    return {\n      response: {\n        action: 'complete',\n      }\n    };\n  }\n\n  for (const file of files) {\n    const li = document.createElement('li');\n    li.append(span(file.name, {fontWeight: 'bold'}));\n    li.append(span(\n        `(${file.type || 'n/a'}) - ${file.size} bytes, ` +\n        `last modified: ${\n            file.lastModifiedDate ? file.lastModifiedDate.toLocaleDateString() :\n                                    'n/a'} - `));\n    const percent = span('0% done');\n    li.appendChild(percent);\n\n    outputElement.appendChild(li);\n\n    const fileDataPromise = new Promise((resolve) => {\n      const reader = new FileReader();\n      reader.onload = (e) => {\n        resolve(e.target.result);\n      };\n      reader.readAsArrayBuffer(file);\n    });\n    // Wait for the data to be ready.\n    let fileData = yield {\n      promise: fileDataPromise,\n      response: {\n        action: 'continue',\n      }\n    };\n\n    // Use a chunked sending to avoid message size limits. See b/62115660.\n    let position = 0;\n    do {\n      const length = Math.min(fileData.byteLength - position, MAX_PAYLOAD_SIZE);\n      const chunk = new Uint8Array(fileData, position, length);\n      position += length;\n\n      const base64 = btoa(String.fromCharCode.apply(null, chunk));\n      yield {\n        response: {\n          action: 'append',\n          file: file.name,\n          data: base64,\n        },\n      };\n\n      let percentDone = fileData.byteLength === 0 ?\n          100 :\n          Math.round((position / fileData.byteLength) * 100);\n      percent.textContent = `${percentDone}% done`;\n\n    } while (position < fileData.byteLength);\n  }\n\n  // All done.\n  yield {\n    response: {\n      action: 'complete',\n    }\n  };\n}\n\nscope.google = scope.google || {};\nscope.google.colab = scope.google.colab || {};\nscope.google.colab._files = {\n  _uploadFiles,\n  _uploadFilesContinue,\n};\n})(self);\n</script> ",
            "text/plain": "<IPython.core.display.HTML object>"
          },
          "metadata": {}
        },
        {
          "output_type": "stream",
          "name": "stdout",
          "text": "Saving Ads_Clicks.csv to Ads_Clicks.csv\n"
        }
      ],
      "execution_count": 1,
      "metadata": {
        "colab": {
          "base_uri": "https://localhost:8080/",
          "height": 73
        },
        "id": "qXdxrcXoHzvQ",
        "outputId": "118dc28a-19a2-4f02-c5d7-0c1e38616d7b"
      }
    },
    {
      "cell_type": "code",
      "source": [
        "\n",
        "# Importing the libraries and loading dataset\n",
        "import numpy as np\n",
        "import matplotlib.pyplot as plt\n",
        "import pandas as pd\n",
        "import random\n",
        "\n",
        "ads_clicks = pd.read_csv('Ads_Clicks.csv')\n"
      ],
      "outputs": [],
      "execution_count": 5,
      "metadata": {
        "id": "s1ZUmr0eG_BF"
      }
    },
    {
      "cell_type": "code",
      "source": [
        "# Number of ads\n",
        "num_ads = len(ads_clicks.columns)\n",
        "print(num_ads)"
      ],
      "outputs": [
        {
          "output_type": "stream",
          "name": "stdout",
          "text": "10\n"
        }
      ],
      "execution_count": 6,
      "metadata": {
        "colab": {
          "base_uri": "https://localhost:8080/"
        },
        "id": "h5w8YiMFHLcV",
        "outputId": "f54087d8-5868-4d44-9b11-3e2d19912cee"
      }
    },
    {
      "cell_type": "code",
      "source": [
        " #ε-greedy algorithm\n",
        "def epsilon_greedy(epsilon, rewards):\n",
        "    if random.uniform(0, 1) < epsilon:\n",
        "        # Explore: Choose a random ad\n",
        "        ad = random.randint(0, num_ads - 1)\n",
        "    else:\n",
        "        # Exploit: Choose the ad with the highest reward\n",
        "        ad = np.argmax(rewards)\n",
        "    return ad"
      ],
      "outputs": [],
      "execution_count": 7,
      "metadata": {
        "id": "Y9mvzNBqHUN1"
      }
    },
    {
      "cell_type": "code",
      "source": [
        "# Initialize the rewards for each ad to 0 and create an empty list to store the rewards for each time step:\n",
        "rewards = [0] * num_ads\n",
        "total_rewards_01 = []\n",
        "total_rewards_03 = []\n"
      ],
      "outputs": [],
      "execution_count": 8,
      "metadata": {
        "id": "axv-i1EMHYzN"
      }
    },
    {
      "cell_type": "code",
      "source": [
        "# Iterating the ε-greedy algorithm for 2000 time steps using ε=0.01 and ε=0.3\n",
        "\n",
        "for t in range(2000):\n",
        "\n",
        "    # Choosing ad using the epsilon-greedy algorithm with epsilon=0.01\n",
        "    ad_01 = epsilon_greedy(0.01, rewards)\n",
        "\n",
        "    # Choose the ad using the epsilon-greedy algorithm with epsilon=0.3\n",
        "    ad_03 = epsilon_greedy(0.3, rewards)\n",
        "\n",
        "    # for epsilon = 0.01\n",
        "    # reward for the chosen ad\n",
        "    reward = ads_clicks.iloc[t][ad_01]\n",
        "    # Updating rewards for the chosen ad\n",
        "    rewards[ad_01] = rewards[ad_01] + reward\n",
        "    # Add the reward to the total rewards list for epsilon=0.01\n",
        "    total_rewards_01.append(sum(rewards))\n",
        "\n",
        "    # for epsilon = 0.3\n",
        "    # reward for the chosen ad\n",
        "    reward = ads_clicks.iloc[t][ad_03]\n",
        "    # Updating rewards for the chosen ad\n",
        "    rewards[ad_03] = rewards[ad_03] + reward\n",
        "    # Add the reward to the total rewards list for epsilon=0.3\n",
        "    total_rewards_03.append(sum(rewards))"
      ],
      "outputs": [],
      "execution_count": 9,
      "metadata": {
        "id": "MmvfOWJ_HcWI"
      }
    },
    {
      "cell_type": "code",
      "source": [
        "print(\"Total rewards for ε=0.01: \", total_rewards_01[-1])\n",
        "print(\"Total rewards for ε=0.3: \", total_rewards_03[-1])"
      ],
      "outputs": [
        {
          "output_type": "stream",
          "name": "stdout",
          "text": "Total rewards for ε=0.01:  655\nTotal rewards for ε=0.3:  655\n"
        }
      ],
      "execution_count": 10,
      "metadata": {
        "colab": {
          "base_uri": "https://localhost:8080/"
        },
        "id": "NFgdSt9lHf6w",
        "outputId": "2a77229f-0d74-4f69-81e7-d38b97c694d6"
      }
    },
    {
      "cell_type": "code",
      "source": [
        "# Upper-Confidence-Bound algorithm\n",
        "def ucb(rewards, n, t, c=1.5):\n",
        "    # Calculate the average reward for each ad\n",
        "    average_rewards = rewards / n\n",
        "    # Calculate the upper confidence bound for each ad\n",
        "    ucb_values = average_rewards + c * np.sqrt(np.log(t + 1) / n)\n",
        "    # Choose the ad with the highest UCB value\n",
        "    ad = np.argmax(ucb_values)\n",
        "    return ad"
      ],
      "outputs": [],
      "execution_count": 11,
      "metadata": {
        "id": "oqzelAxyHjnH"
      }
    },
    {
      "cell_type": "code",
      "source": [
        "# Initialize the rewards for each ad to 0 and create an empty list to store the rewards for each time step:\n",
        "rewards = np.zeros(num_ads)\n",
        "n = np.zeros(num_ads)\n",
        "total_rewards = []"
      ],
      "outputs": [],
      "execution_count": 12,
      "metadata": {
        "id": "9RxH1zbhHmp3"
      }
    },
    {
      "cell_type": "code",
      "source": [
        "# Iterating over Upper-Confidence-Bound algorithm for 2000 time steps using c=1.5:\n",
        "for t in range(2000):\n",
        "    # Choose the ad using the UCB algorithm\n",
        "    ad = ucb(rewards, n, t, c=1.5)\n",
        "\n",
        "    # Get the reward for the chosen ad\n",
        "    reward = ads_clicks.iloc[t][ad]\n",
        "    # Update the rewards for the chosen ad\n",
        "    rewards[ad] = rewards[ad] + reward\n",
        "    # Update the number of times the ad has been selected\n",
        "    n[ad] = n[ad] + 1\n",
        "    # Add the reward to the total rewards list\n",
        "    total_rewards.append(sum(rewards))\n",
        "\n",
        "# Print the total rewards for c=1.5\n",
        "print(\"Total rewards for c=1.5: \", total_rewards[-1])\n"
      ],
      "outputs": [
        {
          "output_type": "stream",
          "name": "stdout",
          "text": "Total rewards for c=1.5:  323.0\n"
        },
        {
          "output_type": "stream",
          "name": "stderr",
          "text": "<ipython-input-11-0d06a4c0df41>:4: RuntimeWarning: invalid value encountered in divide\n  average_rewards = rewards / n\n<ipython-input-11-0d06a4c0df41>:6: RuntimeWarning: invalid value encountered in divide\n  ucb_values = average_rewards + c * np.sqrt(np.log(t + 1) / n)\n<ipython-input-11-0d06a4c0df41>:6: RuntimeWarning: divide by zero encountered in divide\n  ucb_values = average_rewards + c * np.sqrt(np.log(t + 1) / n)\n"
        }
      ],
      "execution_count": 13,
      "metadata": {
        "colab": {
          "base_uri": "https://localhost:8080/"
        },
        "id": "Jpz4dnZmHnvR",
        "outputId": "50a27182-1020-4de2-8ce3-eb9799d29f9e"
      }
    }
  ],
  "metadata": {
    "colab": {
      "provenance": []
    },
    "kernelspec": {
      "display_name": "Python 3 (ipykernel)",
      "language": "python",
      "name": "python3"
    },
    "language_info": {
      "codemirror_mode": {
        "name": "ipython",
        "version": 3
      },
      "file_extension": ".py",
      "mimetype": "text/x-python",
      "name": "python",
      "nbconvert_exporter": "python",
      "pygments_lexer": "ipython3",
      "version": "3.11.5"
    },
    "nteract": {
      "version": "nteract-front-end@1.0.0"
    }
  },
  "nbformat": 4,
  "nbformat_minor": 1
}