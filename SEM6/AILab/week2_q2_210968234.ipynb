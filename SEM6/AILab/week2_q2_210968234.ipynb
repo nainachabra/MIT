{
 "cells": [
  {
   "cell_type": "code",
   "execution_count": 1,
   "id": "6514436e",
   "metadata": {},
   "outputs": [],
   "source": [
    "import gym\n",
    "import time\n",
    "import matplotlib.pyplot as plt\n",
    "import random"
   ]
  },
  {
   "cell_type": "code",
   "execution_count": 2,
   "id": "f7a65614",
   "metadata": {},
   "outputs": [],
   "source": [
    "env = gym.make(\"CartPole-v1\",render_mode = \"human\")"
   ]
  },
  {
   "cell_type": "code",
   "execution_count": 3,
   "id": "fd3387d8",
   "metadata": {},
   "outputs": [
    {
     "name": "stdout",
     "output_type": "stream",
     "text": [
      "1\n",
      "False\n",
      "1\n",
      "False\n",
      "1\n",
      "False\n",
      "1\n",
      "False\n",
      "1\n",
      "False\n",
      "1\n",
      "False\n",
      "1\n",
      "False\n",
      "1\n",
      "False\n",
      "1\n",
      "False\n",
      "1\n",
      "False\n"
     ]
    }
   ],
   "source": [
    "observations = list()\n",
    "rewards = list()\n",
    "rew_ep = dict()\n",
    "for j in range(10):\n",
    "    env.reset()\n",
    "    random_sample = env.action_space.sample()\n",
    "    obs,reward,done, done2,info = env.step(random_sample)\n",
    "    for i in range(100):\n",
    "        if obs[2]<0:\n",
    "            obs,reward,done, done2,info = env.step(0)\n",
    "        else:\n",
    "            obs,reward,done, done2,info = env.step(1)\n",
    "        observations.append(obs)\n",
    "        rewards.append(reward)\n",
    "        env.render()\n",
    "        done = done + done2\n",
    "        if done:\n",
    "            print(done)\n",
    "            print(done2)\n",
    "            env.reset()\n",
    "            break\n",
    "    rew_ep[j] =sum(rewards)\n",
    "    rewards.clear()\n",
    "env.close()"
   ]
  },
  {
   "cell_type": "code",
   "execution_count": 4,
   "id": "37d3ba64",
   "metadata": {},
   "outputs": [
    {
     "data": {
      "text/plain": [
       "<BarContainer object of 10 artists>"
      ]
     },
     "execution_count": 4,
     "metadata": {},
     "output_type": "execute_result"
    },
    {
     "data": {
      "image/png": "[encoded data removed]",
      "text/plain": [
       "<Figure size 432x288 with 1 Axes>"
      ]
     },
     "metadata": {
      "needs_background": "light"
     },
     "output_type": "display_data"
    }
   ],
   "source": [
    "plt.bar(rew_ep.keys(),rew_ep.values())"
   ]
  },
  {
   "cell_type": "code",
   "execution_count": 5,
   "id": "84cc350b",
   "metadata": {},
   "outputs": [],
   "source": [
    "env1 = gym.make(\"CartPole-v1\",render_mode = \"human\")"
   ]
  },
  {
   "cell_type": "code",
   "execution_count": 6,
   "id": "ff70e00b",
   "metadata": {},
   "outputs": [],
   "source": [
    "observations = list()\n",
    "rewards = list()\n",
    "rew_ep2 = dict()\n",
    "for j in range(5):\n",
    "    env1.reset()\n",
    "    random_sample = env1.action_space.sample()\n",
    "    obs,reward,done, done2,info = env1.step(random_sample)\n",
    "    for i in range(10):\n",
    "        if obs[3]<0:\n",
    "            obs,reward,done, done2,info = env1.step(0)\n",
    "        else:\n",
    "            obs,reward,done, done2,info = env1.step(1)\n",
    "        observations.append(obs)\n",
    "        rewards.append(reward)\n",
    "        env1.render()\n",
    "        done = done + done2\n",
    "        if done:\n",
    "            print(done)\n",
    "            print(done2)\n",
    "            env1.reset()\n",
    "            break\n",
    "    rew_ep2[j] =sum(rewards)\n",
    "    rewards.clear()\n",
    "env1.close()"
   ]
  },
  {
   "cell_type": "code",
   "execution_count": 7,
   "id": "2c1b7541",
   "metadata": {},
   "outputs": [
    {
     "data": {
      "text/plain": [
       "<BarContainer object of 10 artists>"
      ]
     },
     "execution_count": 7,
     "metadata": {},
     "output_type": "execute_result"
    },
    {
     "data": {
      "image/png": "[encoded data removed]",
      "text/plain": [
       "<Figure size 432x288 with 1 Axes>"
      ]
     },
     "metadata": {
      "needs_background": "light"
     },
     "output_type": "display_data"
    }
   ],
   "source": [
    "plt.bar(rew_ep.keys(),rew_ep.values())"
   ]
  }
 ],
 "metadata": {
  "kernelspec": {
   "display_name": "Python 3 (ipykernel)",
   "language": "python",
   "name": "python3"
  },
  "language_info": {
   "codemirror_mode": {
    "name": "ipython",
    "version": 3
   },
   "file_extension": ".py",
   "mimetype": "text/x-python",
   "name": "python",
   "nbconvert_exporter": "python",
   "pygments_lexer": "ipython3",
   "version": "3.11.3"
  }
 },
 "nbformat": 4,
 "nbformat_minor": 5
}
